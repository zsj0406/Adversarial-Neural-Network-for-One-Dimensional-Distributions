{
 "cells": [
  {
   "cell_type": "code",
   "execution_count": 1,
   "metadata": {
    "collapsed": true
   },
   "outputs": [],
   "source": [
    "import tensorflow as tf"
   ]
  },
  {
   "cell_type": "code",
   "execution_count": 2,
   "metadata": {
    "collapsed": true
   },
   "outputs": [],
   "source": [
    "import numpy as np"
   ]
  },
  {
   "cell_type": "code",
   "execution_count": 3,
   "metadata": {
    "collapsed": true
   },
   "outputs": [],
   "source": [
    "%matplotlib inline\n",
    "import matplotlib.pyplot as plt"
   ]
  },
  {
   "cell_type": "markdown",
   "metadata": {},
   "source": [
    "# Build Discriminator and Generator"
   ]
  },
  {
   "cell_type": "code",
   "execution_count": 4,
   "metadata": {
    "collapsed": true
   },
   "outputs": [],
   "source": [
    "x_ = tf.placeholder(tf.float32, shape=[None,1])\n",
    "z_ = tf.placeholder(tf.float32, shape=[None,1])"
   ]
  },
  {
   "cell_type": "code",
   "execution_count": 5,
   "metadata": {
    "collapsed": true
   },
   "outputs": [],
   "source": [
    "w1 = tf.Variable(tf.random_uniform([1,100], -1, 1))\n",
    "w2 = tf.Variable(tf.random_uniform([100,100], -1, 1))\n",
    "w3 = tf.Variable(tf.random_uniform([100,100], -1, 1))\n",
    "w4 = tf.Variable(tf.random_uniform([100,1], -1, 1))\n",
    "b1 = tf.Variable(tf.random_normal([100]))\n",
    "b2 = tf.Variable(tf.random_normal([100]))\n",
    "b3 = tf.Variable(tf.random_normal([100]))\n",
    "b4 = tf.Variable(tf.random_normal([1]))"
   ]
  },
  {
   "cell_type": "code",
   "execution_count": 6,
   "metadata": {
    "collapsed": true
   },
   "outputs": [],
   "source": [
    "A2_real = tf.sigmoid(tf.matmul(x_, w1) + b1)\n",
    "A3_real = tf.sigmoid(tf.matmul(A2_real, w2) + b2)\n",
    "A4_real = tf.sigmoid(tf.matmul(A3_real, w3) + b3)\n",
    "D_real = tf.sigmoid(tf.matmul(A4_real, w4) + b4)"
   ]
  },
  {
   "cell_type": "code",
   "execution_count": 7,
   "metadata": {
    "collapsed": true
   },
   "outputs": [],
   "source": [
    "w1_G = tf.Variable(tf.zeros([1,100]))\n",
    "w2_G = tf.Variable(tf.random_uniform([100,100],-1,1))\n",
    "w3_G = tf.Variable(tf.random_uniform([100,100],-1,1))\n",
    "w4_G = tf.Variable(tf.random_uniform([100,1], -1, 1))\n",
    "b1_G = tf.Variable(tf.zeros([100]))\n",
    "b2_G = tf.Variable(tf.zeros([100]))\n",
    "b3_G = tf.Variable(tf.zeros([100]))\n",
    "b4_G = tf.Variable(tf.random_uniform([1],-10,10))"
   ]
  },
  {
   "cell_type": "code",
   "execution_count": 8,
   "metadata": {
    "collapsed": true
   },
   "outputs": [],
   "source": [
    "Z2 = tf.sigmoid(tf.matmul(z_, w1_G) + b1_G)\n",
    "Z3 = tf.sigmoid(tf.matmul(Z2, w2_G) + b2_G)\n",
    "Z4 = tf.sigmoid(tf.matmul(Z3, w3_G) + b3_G)\n",
    "G = tf.matmul(Z4, w4_G) + b4_G"
   ]
  },
  {
   "cell_type": "code",
   "execution_count": 9,
   "metadata": {
    "collapsed": false
   },
   "outputs": [],
   "source": [
    "A2_fake = tf.sigmoid(tf.matmul(G, w1) + b1)\n",
    "A3_fake = tf.sigmoid(tf.matmul(A2_fake, w2) + b2)\n",
    "A4_fake = tf.sigmoid(tf.matmul(A3_fake, w3) + b3)\n",
    "D_fake = tf.sigmoid(tf.matmul(A4_fake, w4) + b4)"
   ]
  },
  {
   "cell_type": "markdown",
   "metadata": {},
   "source": [
    "# Calculate Cost Function and Train Model"
   ]
  },
  {
   "cell_type": "code",
   "execution_count": 10,
   "metadata": {
    "collapsed": true
   },
   "outputs": [],
   "source": [
    "cost_D = tf.reduce_mean(tf.log(D_real) + tf.log(1 - D_fake))\n",
    "cost_G = tf.reduce_mean(tf.log(1-D_fake))"
   ]
  },
  {
   "cell_type": "code",
   "execution_count": 11,
   "metadata": {
    "collapsed": false
   },
   "outputs": [],
   "source": [
    "train_D = tf.train.GradientDescentOptimizer(0.5).minimize(-cost_D, var_list = [w1,w2,b1,b2])\n",
    "train_G = tf.train.GradientDescentOptimizer(0.5).minimize(cost_G, var_list = [w1_G,w2_G,b1_G,b2_G])"
   ]
  },
  {
   "cell_type": "markdown",
   "metadata": {},
   "source": [
    "# Prepare Real Data and Fake Data"
   ]
  },
  {
   "cell_type": "code",
   "execution_count": 12,
   "metadata": {
    "collapsed": false
   },
   "outputs": [],
   "source": [
    "# x = np.random.normal(loc=3., scale = 1.5, size=[5000, 1])\n",
    "# x = np.random.uniform(low = -5, high=5, size=[5000,1])\n",
    "x1 = np.random.normal(loc=-2.,scale=0.5, size=[5000,1])\n",
    "x2 = np.random.normal(loc=2., scale=0.5, size=[5000,1])\n",
    "z = np.random.rand(5000,1)"
   ]
  },
  {
   "cell_type": "code",
   "execution_count": 13,
   "metadata": {
    "collapsed": false
   },
   "outputs": [],
   "source": [
    "x = []\n",
    "for idx in range(len(x1)):\n",
    "    if np.random.rand() < 0.7:\n",
    "        x.append(x1[idx, 0])\n",
    "    else:\n",
    "        x.append(x2[idx, 0])\n",
    "x = np.array(x).reshape(-1,1)"
   ]
  },
  {
   "cell_type": "code",
   "execution_count": 14,
   "metadata": {
    "collapsed": false
   },
   "outputs": [],
   "source": [
    "indexx1 = np.random.choice(len(x1), size = 1500, replace = False)\n",
    "indexx2 = np.random.choice(len(x2), size = 3500, replace = False)"
   ]
  },
  {
   "cell_type": "code",
   "execution_count": 15,
   "metadata": {
    "collapsed": false
   },
   "outputs": [],
   "source": [
    "x1 = x1[indexx1]\n",
    "x2 = x2[indexx2]\n",
    "x = np.concatenate((x1,x2))"
   ]
  },
  {
   "cell_type": "markdown",
   "metadata": {},
   "source": [
    "# Train this model"
   ]
  },
  {
   "cell_type": "code",
   "execution_count": 17,
   "metadata": {
    "collapsed": true
   },
   "outputs": [],
   "source": [
    "sess = tf.Session()"
   ]
  },
  {
   "cell_type": "code",
   "execution_count": 18,
   "metadata": {
    "collapsed": true
   },
   "outputs": [],
   "source": [
    "init = tf.initialize_all_variables()\n",
    "sess.run(init)"
   ]
  },
  {
   "cell_type": "code",
   "execution_count": 19,
   "metadata": {
    "collapsed": false
   },
   "outputs": [
    {
     "name": "stdout",
     "output_type": "stream",
     "text": [
      "('cost_D ', -0.22388633)\n",
      "('cost_G ', -0.12718879)\n",
      "('cost_D ', -1.0972612)\n",
      "('cost_G ', -0.54337007)\n",
      "('cost_D ', -1.1308568)\n",
      "('cost_G ', -0.51305664)\n",
      "('cost_D ', -1.2848309)\n",
      "('cost_G ', -0.66072196)\n",
      "('cost_D ', -1.338493)\n",
      "('cost_G ', -0.67843163)\n",
      "('cost_D ', -1.3561318)\n",
      "('cost_G ', -0.67887723)\n",
      "('cost_D ', -1.3362246)\n",
      "('cost_G ', -0.72853196)\n",
      "('cost_D ', -1.3610775)\n",
      "('cost_G ', -0.70196384)\n",
      "('cost_D ', -1.3629304)\n",
      "('cost_G ', -0.67547596)\n",
      "('cost_D ', -1.3626269)\n",
      "('cost_G ', -0.70886683)\n"
     ]
    }
   ],
   "source": [
    "k = 10\n",
    "minibatch_size_1 = 100\n",
    "minibatch_size_2 = 100\n",
    "for i in range(10000):\n",
    "    for _ in range(k):\n",
    "        minibatch_idx = np.random.choice(range(len(x)), size=minibatch_size_1, replace=False)\n",
    "        sess.run(train_D, feed_dict={x_: x[minibatch_idx], z_:z[minibatch_idx]})\n",
    "    \n",
    "    if i%1000 == 0:\n",
    "        print('cost_D ', sess.run(cost_D, feed_dict={x_: x, z_:z}))\n",
    "    \n",
    "    minibatch_idx = np.random.choice(range(len(x)), size=minibatch_size_2, replace=False)\n",
    "    \n",
    "    sess.run(train_G, feed_dict={z_ :z[minibatch_idx]})\n",
    "    if i%1000 == 0:\n",
    "        print('cost_G ', sess.run(cost_G, feed_dict={z_ :z}))"
   ]
  },
  {
   "cell_type": "markdown",
   "metadata": {},
   "source": [
    "# Plot the Real Distribution and Generated Distribution"
   ]
  },
  {
   "cell_type": "code",
   "execution_count": 20,
   "metadata": {
    "collapsed": true
   },
   "outputs": [],
   "source": [
    "x_test = np.linspace(-5,5,num = 100).reshape(-1, 1)\n",
    "# x_test = np.linspace(-4,10,num = 100).reshape(-1, 1)\n",
    "D_test = sess.run(D_real, feed_dict={x_ : x_test})\n",
    "G_test = sess.run(G, feed_dict={z_ :z})"
   ]
  },
  {
   "cell_type": "code",
   "execution_count": 21,
   "metadata": {
    "collapsed": false
   },
   "outputs": [
    {
     "data": {
      "text/plain": [
       "[<matplotlib.lines.Line2D at 0x10d4de5d0>]"
      ]
     },
     "execution_count": 21,
     "metadata": {},
     "output_type": "execute_result"
    },
    {
     "data": {
      "image/png": "[encoded data removed]",
      "text/plain": [
       "<matplotlib.figure.Figure at 0x10d4bcd90>"
      ]
     },
     "metadata": {},
     "output_type": "display_data"
    }
   ],
   "source": [
    "plt.plot(x_test,D_test)"
   ]
  },
  {
   "cell_type": "code",
   "execution_count": 22,
   "metadata": {
    "collapsed": false
   },
   "outputs": [
    {
     "data": {
      "image/png": "[encoded data removed]",
      "text/plain": [
       "<matplotlib.figure.Figure at 0x10cdf6f10>"
      ]
     },
     "metadata": {},
     "output_type": "display_data"
    }
   ],
   "source": [
    "plt.hist(G_test);"
   ]
  },
  {
   "cell_type": "code",
   "execution_count": 23,
   "metadata": {
    "collapsed": false
   },
   "outputs": [
    {
     "data": {
      "text/plain": [
       "(array([   41.,   438.,   759.,   251.,    11.,    14.,   381.,  1678.,\n",
       "         1270.,   157.]),\n",
       " array([-3.67616924, -2.9529251 , -2.22968096, -1.50643682, -0.78319268,\n",
       "        -0.05994854,  0.6632956 ,  1.38653974,  2.10978388,  2.83302802,\n",
       "         3.55627216]),\n",
       " <a list of 10 Patch objects>)"
      ]
     },
     "execution_count": 23,
     "metadata": {},
     "output_type": "execute_result"
    },
    {
     "data": {
      "image/png": "[encoded data removed]",
      "text/plain": [
       "<matplotlib.figure.Figure at 0x10d4eaf10>"
      ]
     },
     "metadata": {},
     "output_type": "display_data"
    }
   ],
   "source": [
    "plt.hist(x)"
   ]
  },
  {
   "cell_type": "markdown",
   "metadata": {},
   "source": [
    "# Use Parzen Window to calculate the distribution"
   ]
  },
  {
   "cell_type": "code",
   "execution_count": 28,
   "metadata": {
    "collapsed": false
   },
   "outputs": [
    {
     "data": {
      "image/png": "[encoded data removed]",
      "text/plain": [
       "<matplotlib.figure.Figure at 0x10de395d0>"
      ]
     },
     "metadata": {},
     "output_type": "display_data"
    }
   ],
   "source": [
    "h = 0.5\n",
    "X = np.arange(-5, 5, 0.02)\n",
    "\n",
    "# for each point in x, we have compute its pdf\n",
    "Y = np.array([])\n",
    "N = len(G_test)\n",
    "\n",
    "for x_window in X:\n",
    "    t = 0\n",
    "    for xi in G_test:\n",
    "        t += np.exp(-(x_window-xi)**2/(2*h*h))\n",
    "    \n",
    "    y = (t/(2*np.pi*h*h)**0.5)/N\n",
    "    Y = np.append(Y, y)\n",
    "\n",
    "plt.plot(X, Y)\n",
    "# plt.xlabel('Generated data')\n",
    "# plt.savefig('G_mixture.jpg')\n",
    "plt.show()"
   ]
  },
  {
   "cell_type": "code",
   "execution_count": 29,
   "metadata": {
    "collapsed": false
   },
   "outputs": [
    {
     "data": {
      "image/png": "[encoded data removed]",
      "text/plain": [
       "<matplotlib.figure.Figure at 0x10ddeed10>"
      ]
     },
     "metadata": {},
     "output_type": "display_data"
    }
   ],
   "source": [
    "h = 0.5\n",
    "X = np.arange(-5, 5, 0.02)\n",
    "\n",
    "# for each point in x, we have compute its pdf\n",
    "Y = np.array([])\n",
    "N = len(x)\n",
    "\n",
    "for x_window in X:\n",
    "    t = 0\n",
    "    for xi in x:\n",
    "        t += np.exp(-(x_window-xi)**2/(2*h*h))\n",
    "    \n",
    "    y = (t/(2*np.pi*h*h)**0.5)/N\n",
    "    Y = np.append(Y, y)\n",
    "\n",
    "plt.plot(X, Y)\n",
    "# plt.xlabel('Real data')\n",
    "# plt.savefig('Mixture.jpg')\n",
    "plt.show()"
   ]
  },
  {
   "cell_type": "markdown",
   "metadata": {},
   "source": [
    "# Calculate the KL divergence"
   ]
  },
  {
   "cell_type": "code",
   "execution_count": 26,
   "metadata": {
    "collapsed": false
   },
   "outputs": [
    {
     "name": "stdout",
     "output_type": "stream",
     "text": [
      "[ 478.35969008]\n"
     ]
    }
   ],
   "source": [
    "kl = 0\n",
    "for i in range(5000):\n",
    "    kl = kl + x[i]*np.log(np.absolute(x[i]/G_test[i]))\n",
    "print kl"
   ]
  }
 ],
 "metadata": {
  "kernelspec": {
   "display_name": "Python 2",
   "language": "python",
   "name": "python2"
  },
  "language_info": {
   "codemirror_mode": {
    "name": "ipython",
    "version": 2
   },
   "file_extension": ".py",
   "mimetype": "text/x-python",
   "name": "python",
   "nbconvert_exporter": "python",
   "pygments_lexer": "ipython2",
   "version": "2.7.10"
  }
 },
 "nbformat": 4,
 "nbformat_minor": 0
}
