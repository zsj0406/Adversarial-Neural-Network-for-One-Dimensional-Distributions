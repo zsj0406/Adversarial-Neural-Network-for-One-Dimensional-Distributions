{
 "cells": [
  {
   "cell_type": "code",
   "execution_count": 1,
   "metadata": {
    "collapsed": true
   },
   "outputs": [],
   "source": [
    "import tensorflow as tf"
   ]
  },
  {
   "cell_type": "code",
   "execution_count": 2,
   "metadata": {
    "collapsed": true
   },
   "outputs": [],
   "source": [
    "import numpy as np"
   ]
  },
  {
   "cell_type": "code",
   "execution_count": 3,
   "metadata": {
    "collapsed": true
   },
   "outputs": [],
   "source": [
    "%matplotlib inline\n",
    "import matplotlib.pyplot as plt"
   ]
  },
  {
   "cell_type": "markdown",
   "metadata": {},
   "source": [
    "# Build Discriminator and Generator"
   ]
  },
  {
   "cell_type": "code",
   "execution_count": 4,
   "metadata": {
    "collapsed": true
   },
   "outputs": [],
   "source": [
    "x_ = tf.placeholder(tf.float32, shape=[None,1])\n",
    "z_ = tf.placeholder(tf.float32, shape=[None,1])"
   ]
  },
  {
   "cell_type": "code",
   "execution_count": 5,
   "metadata": {
    "collapsed": true
   },
   "outputs": [],
   "source": [
    "w1 = tf.Variable(tf.random_uniform([1,10], -1, 1))\n",
    "w2 = tf.Variable(tf.random_uniform([10,1], -1, 1))\n",
    "b1 = tf.Variable(tf.random_normal([10]))\n",
    "b2 = tf.Variable(tf.random_normal([1]))"
   ]
  },
  {
   "cell_type": "code",
   "execution_count": 6,
   "metadata": {
    "collapsed": true
   },
   "outputs": [],
   "source": [
    "A2_real = tf.sigmoid(tf.matmul(x_, w1) + b1)\n",
    "D_real = tf.sigmoid(tf.matmul(A2_real, w2) + b2)"
   ]
  },
  {
   "cell_type": "code",
   "execution_count": 7,
   "metadata": {
    "collapsed": true
   },
   "outputs": [],
   "source": [
    "w1_G = tf.Variable(tf.zeros([1,10]))\n",
    "w2_G = tf.Variable(tf.random_uniform([10,1], -1, 1))\n",
    "b1_G = tf.Variable(tf.zeros([10]))\n",
    "b2_G = tf.Variable(tf.random_uniform([1],-10,10))"
   ]
  },
  {
   "cell_type": "code",
   "execution_count": 8,
   "metadata": {
    "collapsed": true
   },
   "outputs": [],
   "source": [
    "Z2 = tf.sigmoid(tf.matmul(z_, w1_G) + b1_G)\n",
    "G = tf.matmul(Z2, w2_G) + b2_G"
   ]
  },
  {
   "cell_type": "code",
   "execution_count": 9,
   "metadata": {
    "collapsed": true
   },
   "outputs": [],
   "source": [
    "A2_fake = tf.sigmoid(tf.matmul(G, w1) + b1)\n",
    "D_fake = tf.sigmoid(tf.matmul(A2_fake, w2) + b2)"
   ]
  },
  {
   "cell_type": "markdown",
   "metadata": {},
   "source": [
    "# Calculate Cost Function and Train Model"
   ]
  },
  {
   "cell_type": "code",
   "execution_count": 10,
   "metadata": {
    "collapsed": true
   },
   "outputs": [],
   "source": [
    "cost_D = tf.reduce_mean(tf.log(D_real) + tf.log(1 - D_fake))\n",
    "cost_G = tf.reduce_mean(tf.log(1-D_fake))"
   ]
  },
  {
   "cell_type": "code",
   "execution_count": 11,
   "metadata": {
    "collapsed": true
   },
   "outputs": [],
   "source": [
    "train_D = tf.train.GradientDescentOptimizer(0.5).minimize(-cost_D, var_list = [w1,w2,b1,b2])\n",
    "train_G = tf.train.GradientDescentOptimizer(0.5).minimize(cost_G, var_list = [w1_G,w2_G,b1_G,b2_G])"
   ]
  },
  {
   "cell_type": "markdown",
   "metadata": {},
   "source": [
    "# Prepare Real Data and Fake Data"
   ]
  },
  {
   "cell_type": "code",
   "execution_count": 12,
   "metadata": {
    "collapsed": false
   },
   "outputs": [],
   "source": [
    "# x = np.random.normal(loc=3., scale = 1.5, size=[5000, 1])\n",
    "x = np.random.uniform(low = -5, high=5, size=[5000,1])\n",
    "z = np.random.rand(5000,1)"
   ]
  },
  {
   "cell_type": "markdown",
   "metadata": {},
   "source": [
    "# Train this model"
   ]
  },
  {
   "cell_type": "code",
   "execution_count": 13,
   "metadata": {
    "collapsed": true
   },
   "outputs": [],
   "source": [
    "sess = tf.Session()"
   ]
  },
  {
   "cell_type": "code",
   "execution_count": 14,
   "metadata": {
    "collapsed": true
   },
   "outputs": [],
   "source": [
    "init = tf.initialize_all_variables()\n",
    "sess.run(init)"
   ]
  },
  {
   "cell_type": "code",
   "execution_count": 15,
   "metadata": {
    "collapsed": false
   },
   "outputs": [
    {
     "name": "stdout",
     "output_type": "stream",
     "text": [
      "('cost_D ', -0.51068306)\n",
      "('cost_G ', -0.16362374)\n",
      "('cost_D ', -0.0014460374)\n",
      "('cost_G ', -0.00068749773)\n",
      "('cost_D ', -1.3857336)\n",
      "('cost_G ', -0.68588221)\n",
      "('cost_D ', -1.3871423)\n",
      "('cost_G ', -0.69457966)\n",
      "('cost_D ', -1.3910439)\n",
      "('cost_G ', -0.69170046)\n",
      "('cost_D ', -1.3853028)\n",
      "('cost_G ', -0.69423276)\n",
      "('cost_D ', -1.3865278)\n",
      "('cost_G ', -0.68485868)\n",
      "('cost_D ', -1.3855059)\n",
      "('cost_G ', -0.6962626)\n",
      "('cost_D ', -1.3855773)\n",
      "('cost_G ', -0.69499278)\n",
      "('cost_D ', -1.3857663)\n",
      "('cost_G ', -0.69645512)\n"
     ]
    }
   ],
   "source": [
    "k = 10\n",
    "minibatch_size_1 = 100\n",
    "minibatch_size_2 = 100\n",
    "for i in range(10000):\n",
    "    for _ in range(k):\n",
    "        minibatch_idx = np.random.choice(range(len(x)), size=minibatch_size_1, replace=False)\n",
    "        sess.run(train_D, feed_dict={x_: x[minibatch_idx], z_:z[minibatch_idx]})\n",
    "    \n",
    "    if i%1000 == 0:\n",
    "        print('cost_D ', sess.run(cost_D, feed_dict={x_: x, z_:z}))\n",
    "    \n",
    "    minibatch_idx = np.random.choice(range(len(x)), size=minibatch_size_2, replace=False)\n",
    "    \n",
    "    sess.run(train_G, feed_dict={z_ :z[minibatch_idx]})\n",
    "    if i%1000 == 0:\n",
    "        print('cost_G ', sess.run(cost_G, feed_dict={z_ :z}))"
   ]
  },
  {
   "cell_type": "markdown",
   "metadata": {},
   "source": [
    "# Plot the Real Distribution and Generated Distribution"
   ]
  },
  {
   "cell_type": "code",
   "execution_count": 16,
   "metadata": {
    "collapsed": true
   },
   "outputs": [],
   "source": [
    "x_test = np.linspace(-6,8,num = 100).reshape(-1, 1)\n",
    "D_test = sess.run(D_real, feed_dict={x_ : x_test})\n",
    "G_test = sess.run(G, feed_dict={z_ :z})"
   ]
  },
  {
   "cell_type": "code",
   "execution_count": 17,
   "metadata": {
    "collapsed": false
   },
   "outputs": [
    {
     "data": {
      "text/plain": [
       "[<matplotlib.lines.Line2D at 0x117a99b50>]"
      ]
     },
     "execution_count": 17,
     "metadata": {},
     "output_type": "execute_result"
    },
    {
     "data": {
      "image/png": "[encoded data removed]",
      "text/plain": [
       "<matplotlib.figure.Figure at 0x116dcced0>"
      ]
     },
     "metadata": {},
     "output_type": "display_data"
    }
   ],
   "source": [
    "plt.plot(x_test,D_test)"
   ]
  },
  {
   "cell_type": "code",
   "execution_count": 18,
   "metadata": {
    "collapsed": false
   },
   "outputs": [
    {
     "data": {
      "text/plain": [
       "(array([ 550.,  508.,  484.,  474.,  467.,  477.,  489.,  465.,  503.,  583.]),\n",
       " array([-4.91183281, -3.9351511 , -2.95846939, -1.98178768, -1.00510597,\n",
       "        -0.02842426,  0.94825745,  1.92493916,  2.90162086,  3.87830257,\n",
       "         4.85498428]),\n",
       " <a list of 10 Patch objects>)"
      ]
     },
     "execution_count": 18,
     "metadata": {},
     "output_type": "execute_result"
    },
    {
     "data": {
      "image/png": "[encoded data removed]",
      "text/plain": [
       "<matplotlib.figure.Figure at 0x117a16950>"
      ]
     },
     "metadata": {},
     "output_type": "display_data"
    }
   ],
   "source": [
    "plt.hist(G_test)\n",
    "# plt.xlabel('Generated data')\n",
    "# plt.savefig('G_uniform.jpg')"
   ]
  },
  {
   "cell_type": "code",
   "execution_count": 19,
   "metadata": {
    "collapsed": false
   },
   "outputs": [
    {
     "data": {
      "text/plain": [
       "(array([ 489.,  495.,  510.,  468.,  508.,  532.,  505.,  472.,  501.,  520.]),\n",
       " array([ -4.99983727e+00,  -3.99990955e+00,  -2.99998184e+00,\n",
       "         -2.00005413e+00,  -1.00012641e+00,  -1.98698378e-04,\n",
       "          9.99729015e-01,   1.99965673e+00,   2.99958444e+00,\n",
       "          3.99951216e+00,   4.99943987e+00]),\n",
       " <a list of 10 Patch objects>)"
      ]
     },
     "execution_count": 19,
     "metadata": {},
     "output_type": "execute_result"
    },
    {
     "data": {
      "image/png": "[encoded data removed]",
      "text/plain": [
       "<matplotlib.figure.Figure at 0x1179d8a10>"
      ]
     },
     "metadata": {},
     "output_type": "display_data"
    }
   ],
   "source": [
    "plt.hist(x)\n",
    "# plt.xlabel('Real data')\n",
    "# plt.savefig('uniform.jpg')"
   ]
  },
  {
   "cell_type": "markdown",
   "metadata": {},
   "source": [
    "# Use Parzen Window to calculate the distribution"
   ]
  },
  {
   "cell_type": "code",
   "execution_count": 22,
   "metadata": {
    "collapsed": false
   },
   "outputs": [
    {
     "data": {
      "image/png": "[encoded data removed]",
      "text/plain": [
       "<matplotlib.figure.Figure at 0x117fc2410>"
      ]
     },
     "metadata": {},
     "output_type": "display_data"
    }
   ],
   "source": [
    "h = 0.5\n",
    "X = np.arange(-5, 5, 0.02)\n",
    "\n",
    "# for each point in x, we have compute its pdf\n",
    "Y = np.array([])\n",
    "N = len(G_test)\n",
    "\n",
    "for x_window in X:\n",
    "    t = 0\n",
    "    for xi in G_test:\n",
    "        t += np.exp(-(x_window-xi)**2/(2*h*h))\n",
    "    \n",
    "    y = (t/(2*np.pi*h*h)**0.5)/N\n",
    "    Y = np.append(Y, y)\n",
    "\n",
    "plt.plot(X, Y)\n",
    "plt.xlabel('Generated data')\n",
    "plt.savefig('G_uniform.jpg')\n",
    "plt.show()"
   ]
  },
  {
   "cell_type": "code",
   "execution_count": 23,
   "metadata": {
    "collapsed": false
   },
   "outputs": [
    {
     "data": {
      "image/png": "[encoded data removed]",
      "text/plain": [
       "<matplotlib.figure.Figure at 0x117fdb250>"
      ]
     },
     "metadata": {},
     "output_type": "display_data"
    }
   ],
   "source": [
    "h = 0.5\n",
    "X = np.arange(-5, 5, 0.02)\n",
    "\n",
    "# for each point in x, we have compute its pdf\n",
    "Y = np.array([])\n",
    "N = len(x)\n",
    "\n",
    "for x_window in X:\n",
    "    t = 0\n",
    "    for xi in x:\n",
    "        t += np.exp(-(x_window-xi)**2/(2*h*h))\n",
    "    \n",
    "    y = (t/(2*np.pi*h*h)**0.5)/N\n",
    "    Y = np.append(Y, y)\n",
    "\n",
    "plt.plot(X, Y)\n",
    "plt.xlabel('Real data')\n",
    "plt.savefig('uniform.jpg')\n",
    "plt.show()"
   ]
  },
  {
   "cell_type": "markdown",
   "metadata": {},
   "source": [
    "# Calculate the KL divergence"
   ]
  },
  {
   "cell_type": "code",
   "execution_count": 26,
   "metadata": {
    "collapsed": false
   },
   "outputs": [
    {
     "name": "stdout",
     "output_type": "stream",
     "text": [
      "[-469.5045185]\n"
     ]
    }
   ],
   "source": [
    "kl = 0\n",
    "for i in range(5000):\n",
    "    kl = kl + x[i]*np.log(np.absolute(x[i]/G_test[i]))\n",
    "print kl"
   ]
  }
 ],
 "metadata": {
  "kernelspec": {
   "display_name": "Python 2",
   "language": "python",
   "name": "python2"
  },
  "language_info": {
   "codemirror_mode": {
    "name": "ipython",
    "version": 2
   },
   "file_extension": ".py",
   "mimetype": "text/x-python",
   "name": "python",
   "nbconvert_exporter": "python",
   "pygments_lexer": "ipython2",
   "version": "2.7.10"
  }
 },
 "nbformat": 4,
 "nbformat_minor": 0
}
